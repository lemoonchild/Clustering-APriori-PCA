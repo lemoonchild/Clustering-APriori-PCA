{
 "cells": [
  {
   "cell_type": "markdown",
   "metadata": {},
   "source": [
    "# Clustering\n"
   ]
  },
  {
   "cell_type": "code",
   "execution_count": null,
   "metadata": {},
   "outputs": [],
   "source": [
    "import numpy as np\n",
    "import pandas as pd\n",
    "from sklearn.preprocessing import StandardScaler\n",
    "from sklearn.neighbors import NearestNeighbors\n",
    "from scipy.spatial import distance\n",
    "import matplotlib.pyplot as plt\n",
    "import seaborn as sns\n",
    "from pyclustertend import hopkins, vat"
   ]
  },
  {
   "cell_type": "markdown",
   "metadata": {},
   "source": [
    "#### _1.1 Haga el preprocesamiento del dataset, explique qué variables no aportan información a la generación de grupos y por qué. Describa con qué variables calculará los grupos_\n"
   ]
  },
  {
   "cell_type": "markdown",
   "metadata": {},
   "source": [
    "<small>\n",
    "\n",
    "**Variables que no aportan información para clústering:**\n",
    "\n",
    "Es importante resaltar que clustering se maneja por medio de valores numéricos. Por lo tanto, los valores que no aportan información para clústering son:\n",
    "\n",
    "1. **id:** Es solo el identificador único, no tiene relevancia para la agrupación.\n",
    "2. **homepage:** Debido a que es una URL, no aporta valor numérico o categórico relevante.\n",
    "3. **originalTile y title:** Es el nombre de las películas, no aportan información cuantificable.\n",
    "4. **originalLanguage:** Es una variable categórica con demasiadas clases, no es relevante para el clústering.\n",
    "5. **releaseDate:** Es una fecha que no aporta información numérica útil directamente.\n",
    "6. **director, actor, actorsCharacter:** Son nombres de personas, no datos útiles para análisis cuantitativo.\n",
    "7. **video:** Contiene valores _True/False_, lo cual no es tan útil para el clustering en este caso.\n",
    "8. **productionCompany, productionCompanyCountry, productionCountry, genres:** Su formato textual dificulta el uso de clustering.\n",
    "\n",
    "</small>\n"
   ]
  },
  {
   "cell_type": "markdown",
   "metadata": {},
   "source": [
    "<small>\n",
    "\n",
    "**Variables Seleccionadas para Calcular los Grupos**\n",
    "\n",
    "Cabe resaltar que todas las variables seleccionadas para calcular grupos, son de tipo cuantitativo.\n",
    "\n",
    "1. budget\n",
    "2. revenue\n",
    "3. popularity\n",
    "4. voteAvg\n",
    "5. voteCount\n",
    "6. runtime\n",
    "7. genresAmount\n",
    "8. productionCoAmount\n",
    "9. productionCountriesAmount\n",
    "10. actosPopularity\n",
    "11. actorsAmount\n",
    "12. castWomenAmount\n",
    "13. castMenAmount\n",
    "    </small>\n"
   ]
  },
  {
   "cell_type": "markdown",
   "metadata": {},
   "source": [
    "#### _1.2 Analice la tendencia al agrupamiento usando el estadístico de Hopkings y la VAT (Visual Assessment of cluster Tendency). Esta última hágala si es posible, teniendo en cuenta las dimensiones del conjunto de datos. Discuta sus resultados e impresiones._\n"
   ]
  },
  {
   "cell_type": "code",
   "execution_count": 8,
   "metadata": {},
   "outputs": [
    {
     "name": "stdout",
     "output_type": "stream",
     "text": [
      "Estadístico de Hopkins: 0.0177\n",
      "VAT omitida por el tamaño de los datos.\n"
     ]
    }
   ],
   "source": [
    "file_path = \"movies.csv\"\n",
    "df = pd.read_csv(file_path, encoding=\"ISO-8859-1\")\n",
    "\n",
    "# Preprocesar 'actorsPopularity' para calcular el promedio de popularidades\n",
    "def calculate_mean_popularity(popularity_string):\n",
    "    try:\n",
    "        popularity_values = list(map(float, popularity_string.split('|')))\n",
    "        if len(popularity_values) > 0:\n",
    "            return np.mean(popularity_values)\n",
    "        else:\n",
    "            return 0\n",
    "    except:\n",
    "        return 0\n",
    "\n",
    "df['actorsPopularity'] = df['actorsPopularity'].apply(calculate_mean_popularity)\n",
    "\n",
    "# Variables seleccionadas para clustering\n",
    "features = [\n",
    "    \"budget\", \"revenue\", \"runtime\", \"actorsPopularity\",\n",
    "    \"popularity\", \"voteAvg\", \"voteCount\", \"genresAmount\",\n",
    "    \"productionCoAmount\", \"productionCountriesAmount\",\n",
    "    \"actorsAmount\", \"castWomenAmount\", \"castMenAmount\"\n",
    "]\n",
    "\n",
    "# Filtrar solo las columnas relevantes\n",
    "df_cluster = df[features].copy()\n",
    "\n",
    "# Convertir castWomenAmount y castMenAmount a numérico (por si tienen strings)\n",
    "df_cluster[\"castWomenAmount\"] = pd.to_numeric(df_cluster[\"castWomenAmount\"], errors=\"coerce\")\n",
    "df_cluster[\"castMenAmount\"] = pd.to_numeric(df_cluster[\"castMenAmount\"], errors=\"coerce\")\n",
    "\n",
    "# Manejo de valores nulos con la mediana\n",
    "df_cluster[df_cluster.select_dtypes(include=[np.number]).columns] = df_cluster.select_dtypes(include=[np.number]).fillna(df_cluster.median(numeric_only=True))\n",
    "\n",
    "# Normalizar los datos para clustering\n",
    "scaler = StandardScaler()\n",
    "df_scaled = scaler.fit_transform(df_cluster)\n",
    "\n",
    "# Calcular el estadístico de Hopkins usando pyclustertend\n",
    "hopkins_score = hopkins(df_scaled, df_scaled.shape[0])\n",
    "print(f\"Estadístico de Hopkins: {hopkins_score:.4f}\")\n",
    "\n",
    "# Visual Assessment of Cluster Tendency (VAT) usando pyclustertend\n",
    "if df_scaled.shape[0] <= 5000:  # Verificar el tamaño para evitar problemas de visualización\n",
    "    vat(df_scaled)\n",
    "else:\n",
    "    print(\"VAT omitida por el tamaño de los datos.\")"
   ]
  },
  {
   "cell_type": "markdown",
   "metadata": {},
   "source": [
    "<small>\n",
    "\n",
    "### **Análisis de Hopkins**\n",
    "\n",
    "El resultado obtenido del estadístico de Hopkins fue de **0.0177**, lo cual es significativamente bajo y sugiere una alta propensión al agrupamiento dentro del conjunto de datos analizado. En el contexto de la minería de datos, un valor de Hopkins tan bajo es indicativo de que los datos no están distribuidos de manera aleatoria y, por lo tanto, existen patrones intrínsecos que pueden ser identificados mediante técnicas de clustering.\n",
    "\n",
    "### **Análisis de VAT**\n",
    "\n",
    "La omisión de la Visual Assessment of Cluster Tendency (VAT) se debió al tamaño considerable del dataset, que plantea desafíos computacionales y de visualización. La técnica VAT es una herramienta útil para evaluar visualmente si un conjunto de datos contiene grupos naturales discernibles, pero su eficacia disminuye con el aumento del tamaño del dataset debido a la complejidad de la representación visual de las distancias entre datos en una matriz de disimilitud.\n",
    "</small>\n"
   ]
  }
 ],
 "metadata": {
  "kernelspec": {
   "display_name": "venv",
   "language": "python",
   "name": "python3"
  },
  "language_info": {
   "codemirror_mode": {
    "name": "ipython",
    "version": 3
   },
   "file_extension": ".py",
   "mimetype": "text/x-python",
   "name": "python",
   "nbconvert_exporter": "python",
   "pygments_lexer": "ipython3",
   "version": "3.12.1"
  }
 },
 "nbformat": 4,
 "nbformat_minor": 2
}
